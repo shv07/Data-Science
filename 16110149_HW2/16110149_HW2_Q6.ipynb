{
 "cells": [
  {
   "cell_type": "code",
   "execution_count": 1,
   "metadata": {},
   "outputs": [],
   "source": [
    "#referneces\n",
    "#https://snap.stanford.edu/snappy/index.html\n",
    "#https://networkx.github.io/documentation/latest/_downloads/networkx_reference.pdf\n",
    "#Foundations of Data Sciences Textbook for HITS algo"
   ]
  },
  {
   "cell_type": "code",
   "execution_count": 2,
   "metadata": {},
   "outputs": [],
   "source": [
    "import numpy as np\n",
    "import networkx as nx\n",
    "import matplotlib.pyplot as plt"
   ]
  },
  {
   "cell_type": "code",
   "execution_count": 3,
   "metadata": {},
   "outputs": [],
   "source": [
    "G=nx.read_edgelist('web-Stanford.txt', create_using=nx.DiGraph())"
   ]
  },
  {
   "cell_type": "code",
   "execution_count": null,
   "metadata": {},
   "outputs": [],
   "source": []
  },
  {
   "cell_type": "code",
   "execution_count": 4,
   "metadata": {},
   "outputs": [],
   "source": [
    "largest_wc = max(nx.weakly_connected_components(G), key=len)\n",
    "G_=nx.induced_subgraph(G, largest_wc)"
   ]
  },
  {
   "cell_type": "code",
   "execution_count": 5,
   "metadata": {},
   "outputs": [],
   "source": [
    "def Hub_Authority(G, iteration=10, top_k=5):\n",
    "    Ad_Mat=np.array(nx.adjacency_matrix(G))\n",
    "    nodes=np.array(G.nodes())\n",
    "    Authority=np.ones(len(nodes))\n",
    "    Hub=np.ones(len(nodes))\n",
    "    \n",
    "    #HITS algorithm\n",
    "    for i in range(iteration):\n",
    "        Hub=Ad_Mat.dot(Authority)\n",
    "        Hub=Hub/np.linalg.norm(Hub)\n",
    "        \n",
    "        Authority=Ad_Mat.T.dot(Hub)\n",
    "        Authority=Authority/np.linalg.norm(Authority)\n",
    "    \n",
    "    #getting top K values and nodes\n",
    "    top_k_A_id=Authority.argsort()[-top_k:][::-1]\n",
    "    top_k_H_id=Hub.argsort()[-top_k:][::-1]\n",
    "    \n",
    "    top_k_Avalues=[Authority[i] for i in top_k_A_id]\n",
    "    top_k_Hvalues=[Hub[i] for i in top_k_H_id]\n",
    "    \n",
    "    top_k_Anodes=[nodes[i] for i in top_k_A_id]\n",
    "    top_k_Hnodes=[nodes[i] for i in top_k_H_id]\n",
    "    \n",
    "    print(\"Top \",top_k, \" Authority nodes and their values: \")\n",
    "    for i in range(top_k):\n",
    "        print(\"Node: \", top_k_Anodes[i], \", Authority Value: \", top_k_Avalues[i])\n",
    "    print(\"\")\n",
    "    print(\"Top \",top_k, \" Hub nodes and their values: \")\n",
    "    for i in range(top_k):\n",
    "        print(\"Node: \", top_k_Hnodes[i], \", Hub Value: \", top_k_Hvalues[i])\n",
    "    "
   ]
  },
  {
   "cell_type": "code",
   "execution_count": 12,
   "metadata": {},
   "outputs": [],
   "source": [
    "Ad_Mat=nx.adjacency_matrix(G_)\n",
    "nodes=np.array(G_.nodes())\n",
    "Authority=np.ones(len(nodes))\n",
    "Hub=np.ones(len(nodes))\n",
    "Hub=Hub/np.linalg.norm(Hub)\n",
    "Authority=Authority/np.linalg.norm(Authority)"
   ]
  },
  {
   "cell_type": "code",
   "execution_count": 17,
   "metadata": {},
   "outputs": [],
   "source": [
    "for i in range(10):\n",
    "        Hub=Ad_Mat.dot(Authority)\n",
    "        Hub=Hub/np.linalg.norm(Hub)\n",
    "        \n",
    "        Authority=Ad_Mat.T.dot(Hub)\n",
    "        Authority=Authority/np.linalg.norm(Authority)"
   ]
  },
  {
   "cell_type": "code",
   "execution_count": 19,
   "metadata": {},
   "outputs": [
    {
     "name": "stdout",
     "output_type": "stream",
     "text": [
      "Top  5  Authority nodes and their values: \n",
      "Node:  226411 , Authority Value:  0.34858422370390246\n",
      "Node:  234704 , Authority Value:  0.317135959716619\n",
      "Node:  105607 , Authority Value:  0.31254077881021164\n",
      "Node:  198090 , Authority Value:  0.3116059774123886\n",
      "Node:  81435 , Authority Value:  0.31159880353338176\n",
      "\n",
      "Top  5  Hub nodes and their values: \n",
      "Node:  97968 , Hub Value:  0.0072564784091425655\n",
      "Node:  193259 , Hub Value:  0.0072559362518220625\n",
      "Node:  275047 , Hub Value:  0.0072552881221038795\n",
      "Node:  102208 , Hub Value:  0.0072549370867031684\n",
      "Node:  151695 , Hub Value:  0.007254219292348836\n"
     ]
    }
   ],
   "source": [
    "top_k=5\n",
    "top_k_A_id=Authority.argsort()[-top_k:][::-1]\n",
    "top_k_H_id=Hub.argsort()[-top_k:][::-1]\n",
    "\n",
    "top_k_Avalues=[Authority[i] for i in top_k_A_id]\n",
    "top_k_Hvalues=[Hub[i] for i in top_k_H_id]\n",
    "\n",
    "top_k_Anodes=[nodes[i] for i in top_k_A_id]\n",
    "top_k_Hnodes=[nodes[i] for i in top_k_H_id]\n",
    "\n",
    "print(\"Top \",top_k, \" Authority nodes and their values: \")\n",
    "for i in range(top_k):\n",
    "    print(\"Node: \", top_k_Anodes[i], \", Authority Value: \", top_k_Avalues[i])\n",
    "print(\"\")\n",
    "print(\"Top \",top_k, \" Hub nodes and their values: \")\n",
    "for i in range(top_k):\n",
    "    print(\"Node: \", top_k_Hnodes[i], \", Hub Value: \", top_k_Hvalues[i])\n"
   ]
  },
  {
   "cell_type": "code",
   "execution_count": null,
   "metadata": {},
   "outputs": [],
   "source": []
  }
 ],
 "metadata": {
  "kernelspec": {
   "display_name": "Python 3",
   "language": "python",
   "name": "python3"
  },
  "language_info": {
   "codemirror_mode": {
    "name": "ipython",
    "version": 3
   },
   "file_extension": ".py",
   "mimetype": "text/x-python",
   "name": "python",
   "nbconvert_exporter": "python",
   "pygments_lexer": "ipython3",
   "version": "3.5.2"
  }
 },
 "nbformat": 4,
 "nbformat_minor": 2
}
