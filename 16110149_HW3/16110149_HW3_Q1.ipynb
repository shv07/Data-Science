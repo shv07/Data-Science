{
 "cells": [
  {
   "cell_type": "code",
   "execution_count": 113,
   "metadata": {},
   "outputs": [],
   "source": [
    "#reference\n"
   ]
  },
  {
   "cell_type": "code",
   "execution_count": 1,
   "metadata": {},
   "outputs": [],
   "source": [
    "import numpy as np\n",
    "import pandas as pd\n",
    "import matplotlib.pyplot as plt\n",
    "from sklearn.linear_model import LinearRegression as LR"
   ]
  },
  {
   "cell_type": "code",
   "execution_count": 2,
   "metadata": {},
   "outputs": [],
   "source": [
    "def low_rank_approximate(A,k=2):\n",
    "    u, d, v = np.linalg.svd(A, full_matrices=1)\n",
    "    A_k = np.zeros((len(u), len(v)))\n",
    "    for i in range(k):\n",
    "        A_k += d[i] * np.outer(u.T[i], v[i])\n",
    "        #A_k+=np.reshape(u[:,i],(60))\n",
    "    return A_k"
   ]
  },
  {
   "cell_type": "code",
   "execution_count": 3,
   "metadata": {},
   "outputs": [],
   "source": [
    "test_file = './ml20.test'\n",
    "train_file = './ml80.train'\n",
    "test_read = open(test_file, 'r')\n",
    "test = test_read.readlines()\n",
    "test_read.close()\n",
    "#print(np.array(test).shape)\n",
    "test = np.array([np.int64(i.split()) for i in test])"
   ]
  },
  {
   "cell_type": "code",
   "execution_count": 4,
   "metadata": {},
   "outputs": [
    {
     "data": {
      "text/plain": [
       "(20000, 3)"
      ]
     },
     "execution_count": 4,
     "metadata": {},
     "output_type": "execute_result"
    }
   ],
   "source": [
    "test.shape"
   ]
  },
  {
   "cell_type": "code",
   "execution_count": 5,
   "metadata": {},
   "outputs": [
    {
     "data": {
      "text/plain": [
       "array([[ 1,  5,  3],\n",
       "       [ 1, 11,  2],\n",
       "       [ 1, 16,  5],\n",
       "       [ 1, 25,  4],\n",
       "       [ 1, 35,  1],\n",
       "       [ 1, 41,  2],\n",
       "       [ 1, 45,  5],\n",
       "       [ 1, 46,  4],\n",
       "       [ 1, 48,  5],\n",
       "       [ 1, 50,  5]])"
      ]
     },
     "execution_count": 5,
     "metadata": {},
     "output_type": "execute_result"
    }
   ],
   "source": [
    "test[:10]"
   ]
  },
  {
   "cell_type": "code",
   "execution_count": 6,
   "metadata": {},
   "outputs": [
    {
     "name": "stdout",
     "output_type": "stream",
     "text": [
      "(80000, 3)\n"
     ]
    }
   ],
   "source": [
    "train_read = open(train_file, 'r')\n",
    "train = np.array([np.int64(i.split()) for i in train_read.readlines()])\n",
    "print(train.shape)"
   ]
  },
  {
   "cell_type": "code",
   "execution_count": 7,
   "metadata": {},
   "outputs": [
    {
     "data": {
      "text/plain": [
       "array([[ 1,  1,  5],\n",
       "       [ 1,  2,  3],\n",
       "       [ 1,  3,  4],\n",
       "       [ 1,  4,  3],\n",
       "       [ 1,  6,  5],\n",
       "       [ 1,  7,  4],\n",
       "       [ 1,  8,  1],\n",
       "       [ 1,  9,  5],\n",
       "       [ 1, 10,  3],\n",
       "       [ 1, 12,  5]])"
      ]
     },
     "execution_count": 7,
     "metadata": {},
     "output_type": "execute_result"
    }
   ],
   "source": [
    "train[:10]"
   ]
  },
  {
   "cell_type": "code",
   "execution_count": 8,
   "metadata": {},
   "outputs": [
    {
     "data": {
      "text/plain": [
       "(943, 1682)"
      ]
     },
     "execution_count": 8,
     "metadata": {},
     "output_type": "execute_result"
    }
   ],
   "source": [
    "max(train[:,0]), max(train[:,1])"
   ]
  },
  {
   "cell_type": "code",
   "execution_count": 9,
   "metadata": {},
   "outputs": [
    {
     "data": {
      "text/plain": [
       "(877, 1669)"
      ]
     },
     "execution_count": 9,
     "metadata": {},
     "output_type": "execute_result"
    }
   ],
   "source": [
    "max(test[:,0]), max(test[:,1])"
   ]
  },
  {
   "cell_type": "code",
   "execution_count": 10,
   "metadata": {},
   "outputs": [
    {
     "data": {
      "text/plain": [
       "(1, 1)"
      ]
     },
     "execution_count": 10,
     "metadata": {},
     "output_type": "execute_result"
    }
   ],
   "source": [
    "min(test[:,0]), min(test[:,1])"
   ]
  },
  {
   "cell_type": "code",
   "execution_count": 11,
   "metadata": {},
   "outputs": [],
   "source": [
    "train_matrix = np.zeros((943, 1682))\n",
    "#test_matrix = np.zeros((877, 1682))"
   ]
  },
  {
   "cell_type": "code",
   "execution_count": 12,
   "metadata": {},
   "outputs": [],
   "source": [
    "for i in train:\n",
    "    train_matrix[np.int64(i[0])-1][np.int64(i[1])-1] = i[2]"
   ]
  },
  {
   "cell_type": "markdown",
   "metadata": {},
   "source": [
    "#### Matrix Representation of Train Set"
   ]
  },
  {
   "cell_type": "code",
   "execution_count": 13,
   "metadata": {},
   "outputs": [
    {
     "data": {
      "text/plain": [
       "(array([[5., 3., 4., ..., 0., 0., 0.],\n",
       "        [4., 0., 0., ..., 0., 0., 0.],\n",
       "        [0., 0., 0., ..., 0., 0., 0.],\n",
       "        ...,\n",
       "        [5., 0., 0., ..., 0., 0., 0.],\n",
       "        [0., 0., 0., ..., 0., 0., 0.],\n",
       "        [3., 0., 0., ..., 0., 0., 0.]]), (943, 1682))"
      ]
     },
     "execution_count": 13,
     "metadata": {},
     "output_type": "execute_result"
    }
   ],
   "source": [
    "train_matrix[:20], train_matrix.shape"
   ]
  },
  {
   "cell_type": "markdown",
   "metadata": {},
   "source": [
    "#### K Rank Approximation of train_matrix ( K = 10 )"
   ]
  },
  {
   "cell_type": "code",
   "execution_count": 14,
   "metadata": {},
   "outputs": [],
   "source": [
    "pred = low_rank_approximate(train_matrix, k = 10)"
   ]
  },
  {
   "cell_type": "code",
   "execution_count": 62,
   "metadata": {},
   "outputs": [
    {
     "data": {
      "text/plain": [
       "(array([[ 3.58367040e+00,  1.86015182e+00,  1.18017426e+00, ...,\n",
       "         -8.78319181e-03,  2.46557585e-02,  7.92257820e-02],\n",
       "        [ 1.26403224e+00, -1.40492975e-01,  2.14726929e-01, ...,\n",
       "          1.61007603e-02, -4.48077499e-03, -1.72647274e-03],\n",
       "        [-5.55885939e-02, -3.61743334e-02,  4.38054237e-02, ...,\n",
       "          2.47474709e-02, -4.83731919e-03, -1.72150378e-02],\n",
       "        ...,\n",
       "        [ 1.23370932e+00,  1.18497849e+00, -1.11803511e-01, ...,\n",
       "          1.94068599e-03,  3.05896480e-02,  1.94132038e-02],\n",
       "        [ 6.57300255e-01, -1.08406906e-01,  2.07273381e-02, ...,\n",
       "          3.23677051e-03, -2.09784071e-03, -7.68004074e-03],\n",
       "        [ 1.22082434e+00,  2.45722609e-01,  2.67884285e-01, ...,\n",
       "          7.06503904e-04,  1.07101355e-02,  2.39262377e-04]]), (943, 1682))"
      ]
     },
     "execution_count": 62,
     "metadata": {},
     "output_type": "execute_result"
    }
   ],
   "source": [
    "pred[:10], pred.shape"
   ]
  },
  {
   "cell_type": "markdown",
   "metadata": {},
   "source": [
    "### Error with varying K rank approximation"
   ]
  },
  {
   "cell_type": "code",
   "execution_count": 16,
   "metadata": {},
   "outputs": [],
   "source": [
    "def error(k, test):\n",
    "    Pred = low_rank_approximate(train_matrix, k = k)\n",
    "    err = 0\n",
    "    for i, j, S in test:\n",
    "        err += (S - Pred[int(i-1)][int(j-1)])**2\n",
    "    return err"
   ]
  },
  {
   "cell_type": "code",
   "execution_count": 17,
   "metadata": {},
   "outputs": [],
   "source": [
    "errors = []\n",
    "k = list(range(101))\n",
    "for i in k:\n",
    "    errors.append(error(i, test))"
   ]
  },
  {
   "cell_type": "code",
   "execution_count": 63,
   "metadata": {},
   "outputs": [
    {
     "data": {
      "image/png": "[encoded data removed]",
      "text/plain": [
       "<Figure size 432x288 with 1 Axes>"
      ]
     },
     "metadata": {
      "needs_background": "light"
     },
     "output_type": "display_data"
    }
   ],
   "source": [
    "plt.plot(k, errors)\n",
    "plt.xlabel(\"Rank, K\")\n",
    "plt.ylabel(\"Error\")\n",
    "plt.show()"
   ]
  },
  {
   "cell_type": "markdown",
   "metadata": {},
   "source": [
    "#### The optimum value of K is ~13"
   ]
  },
  {
   "cell_type": "code",
   "execution_count": 68,
   "metadata": {},
   "outputs": [
    {
     "data": {
      "text/plain": [
       "13"
      ]
     },
     "execution_count": 68,
     "metadata": {},
     "output_type": "execute_result"
    }
   ],
   "source": [
    "errors.index(min(errors)) #the K for min error"
   ]
  },
  {
   "cell_type": "markdown",
   "metadata": {},
   "source": [
    "### Using Baseline Algorithm"
   ]
  },
  {
   "cell_type": "code",
   "execution_count": 24,
   "metadata": {},
   "outputs": [
    {
     "data": {
      "text/plain": [
       "((943,), (1682,))"
      ]
     },
     "execution_count": 24,
     "metadata": {},
     "output_type": "execute_result"
    }
   ],
   "source": [
    "u = []  #average rating of user i\n",
    "n = []  #average rating of movie j\n",
    "\n",
    "for  i in range(len(train_matrix)):\n",
    "    u.append(sum(train_matrix[i])/1682)\n",
    "    \n",
    "for j in range(len(train_matrix[0])):\n",
    "    n.append(sum(train_matrix[:,j])/943)\n",
    "u,n = np.array(u),np.array(n)\n",
    "u.shape, n.shape"
   ]
  },
  {
   "cell_type": "code",
   "execution_count": 49,
   "metadata": {},
   "outputs": [
    {
     "data": {
      "text/plain": [
       "LinearRegression(copy_X=True, fit_intercept=False, n_jobs=None,\n",
       "         normalize=False)"
      ]
     },
     "execution_count": 49,
     "metadata": {},
     "output_type": "execute_result"
    }
   ],
   "source": [
    "X = []\n",
    "y = []\n",
    "for i, j, r in train:\n",
    "    X.append([u[i-1], n[j-1]])\n",
    "    y.append(train_matrix[i-1][j-1])\n",
    "X=np.array(X)\n",
    "y=np.array(y)\n",
    "lr = LR(fit_intercept=False)\n",
    "lr.fit(X,y)"
   ]
  },
  {
   "cell_type": "code",
   "execution_count": 55,
   "metadata": {},
   "outputs": [
    {
     "data": {
      "text/plain": [
       "(array([4.54541877, 2.77493657]), 0.0)"
      ]
     },
     "execution_count": 55,
     "metadata": {},
     "output_type": "execute_result"
    }
   ],
   "source": [
    "lr.coef_, lr.intercept_ #alpha and beta"
   ]
  },
  {
   "cell_type": "code",
   "execution_count": 51,
   "metadata": {},
   "outputs": [],
   "source": [
    "alpha, beta = lr.coef_"
   ]
  },
  {
   "cell_type": "code",
   "execution_count": 52,
   "metadata": {},
   "outputs": [],
   "source": [
    "baseline_test = []   #new test data with baseline algorithm\n",
    "baseline_error = 0\n",
    "for i,j, r in test:\n",
    "    y_ = alpha*u[i-1] + beta*n[j-1]\n",
    "    baseline_test.append([i,j,y_])\n",
    "    baseline_error += (y_-train_matrix[i-1][j-1])**2\n",
    "baseline_test=np.array(baseline_test)"
   ]
  },
  {
   "cell_type": "code",
   "execution_count": 36,
   "metadata": {},
   "outputs": [],
   "source": [
    "errors_ = []\n",
    "k = list(range(101))\n",
    "for i in k:\n",
    "    errors_.append(error(i, baseline_test))"
   ]
  },
  {
   "cell_type": "code",
   "execution_count": null,
   "metadata": {},
   "outputs": [],
   "source": []
  },
  {
   "cell_type": "code",
   "execution_count": 59,
   "metadata": {},
   "outputs": [
    {
     "data": {
      "image/png": "[encoded data removed]",
      "text/plain": [
       "<Figure size 432x288 with 1 Axes>"
      ]
     },
     "metadata": {
      "needs_background": "light"
     },
     "output_type": "display_data"
    }
   ],
   "source": [
    "plt.plot(k, errors, label = \"Opt Error\")\n",
    "plt.xlabel(\"Rank, K\")\n",
    "plt.ylabel(\"Error\")\n",
    "plt.plot(k, [baseline_error]*101, label = 'Baseline Error')\n",
    "plt.legend()\n",
    "plt.show()"
   ]
  },
  {
   "cell_type": "markdown",
   "metadata": {},
   "source": [
    "#### Clearly the error values in this baseline formulation are much higher than that in the previous plot"
   ]
  },
  {
   "cell_type": "code",
   "execution_count": null,
   "metadata": {},
   "outputs": [],
   "source": []
  },
  {
   "cell_type": "code",
   "execution_count": null,
   "metadata": {},
   "outputs": [],
   "source": []
  },
  {
   "cell_type": "code",
   "execution_count": null,
   "metadata": {},
   "outputs": [],
   "source": []
  }
 ],
 "metadata": {
  "kernelspec": {
   "display_name": "Python 3",
   "language": "python",
   "name": "python3"
  },
  "language_info": {
   "codemirror_mode": {
    "name": "ipython",
    "version": 3
   },
   "file_extension": ".py",
   "mimetype": "text/x-python",
   "name": "python",
   "nbconvert_exporter": "python",
   "pygments_lexer": "ipython3",
   "version": "3.5.2"
  }
 },
 "nbformat": 4,
 "nbformat_minor": 2
}
