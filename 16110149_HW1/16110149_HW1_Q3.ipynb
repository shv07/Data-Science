{
 "cells": [
  {
   "cell_type": "code",
   "execution_count": 1,
   "metadata": {},
   "outputs": [],
   "source": [
    "import numpy as np\n",
    "import math\n",
    "from matplotlib import pyplot as plt"
   ]
  },
  {
   "cell_type": "code",
   "execution_count": 2,
   "metadata": {},
   "outputs": [],
   "source": [
    "def d_dim_Gaussian(Dimension, mean=0, var=1, N=1):     #returns N no. points of d dimensional iid gaussian \n",
    "    u=mean                                             #i.e. an N length array of d-dimensional points\n",
    "    d=Dimension\n",
    "    v=var\n",
    "    cov=np.zeros((d,d))\n",
    "    np.fill_diagonal(cov,v)    #fill the diagonal of zero matrix, cov with the variance to get covariance matrix\n",
    "    mean=np.ones(d)*u            #mean matrix\n",
    "    \n",
    "    count=0\n",
    "    centre=np.zeros(d)       #d-dimensioinal centre point\n",
    "    d1=(d**0.5)-2*(d**(0.25))\n",
    "    d2=(d**0.5)+2*(d**(0.25))\n",
    "\n",
    "    for i in range(N):\n",
    "        point=np.random.multivariate_normal(mean, cov)\n",
    "        distance=np.linalg.norm(point-centre)\n",
    "        if distance>=d1:\n",
    "            if distance<=d2:\n",
    "                count+=1\n",
    "    return count"
   ]
  },
  {
   "cell_type": "markdown",
   "metadata": {},
   "source": [
    "## A 5-dimensional Gaussian point"
   ]
  },
  {
   "cell_type": "code",
   "execution_count": 53,
   "metadata": {},
   "outputs": [
    {
     "data": {
      "text/plain": [
       "array([ 0.01354818,  0.18887885,  1.34525743, -1.78981389,  1.01888728])"
      ]
     },
     "execution_count": 53,
     "metadata": {},
     "output_type": "execute_result"
    }
   ],
   "source": [
    "d=5\n",
    "mean=0\n",
    "var=1\n",
    "mean=np.ones(d)*mean\n",
    "cov=np.zeros((d,d))\n",
    "np.fill_diagonal(cov,var)\n",
    "Points=np.random.multivariate_normal(mean, cov)\n",
    "Points"
   ]
  },
  {
   "cell_type": "markdown",
   "metadata": {},
   "source": [
    "## Generating 1M d-dimensional points and finding how many of them lie in the range [d1,d2]"
   ]
  },
  {
   "cell_type": "code",
   "execution_count": 93,
   "metadata": {},
   "outputs": [
    {
     "data": {
      "text/plain": [
       "0.999999"
      ]
     },
     "execution_count": 93,
     "metadata": {},
     "output_type": "execute_result"
    }
   ],
   "source": [
    "#generating 1M d-dim gaussian points\n",
    "d=10\n",
    "mean=0\n",
    "var=1\n",
    "N=10**6\n",
    "count=d_dim_Gaussian(d,mean,var,N)\n",
    "count/10**6"
   ]
  },
  {
   "cell_type": "markdown",
   "metadata": {},
   "source": [
    "## Plotting fraction of points in the given range v/s d as it varies from 10 to 1000"
   ]
  },
  {
   "cell_type": "code",
   "execution_count": 87,
   "metadata": {},
   "outputs": [
    {
     "name": "stdout",
     "output_type": "stream",
     "text": [
      "5   0.99998\n",
      "55   1.0\n",
      "105   1.0\n",
      "155   1.0\n",
      "205   1.0\n"
     ]
    },
    {
     "data": {
      "image/png": "[encoded data removed]",
      "text/plain": [
       "<Figure size 432x288 with 1 Axes>"
      ]
     },
     "metadata": {
      "needs_background": "light"
     },
     "output_type": "display_data"
    }
   ],
   "source": [
    "X=range(5,250,50)\n",
    "Y=[]\n",
    "mean=0\n",
    "var=1\n",
    "N=10**5\n",
    "for d in X:\n",
    "    count=d_dim_Gaussian(d,mean,var,N)\n",
    "    frac=np.float64(count)/N\n",
    "    print(d,\" \",frac)\n",
    "    Y.append(frac)\n",
    "plt.plot(X,Y)\n",
    "plt.xlabel(\"Dimension (d)\")\n",
    "plt.ylabel(\"Fraction of points in the given range\")\n",
    "plt.show()"
   ]
  },
  {
   "cell_type": "code",
   "execution_count": null,
   "metadata": {},
   "outputs": [],
   "source": []
  },
  {
   "cell_type": "code",
   "execution_count": null,
   "metadata": {},
   "outputs": [],
   "source": []
  },
  {
   "cell_type": "code",
   "execution_count": null,
   "metadata": {},
   "outputs": [],
   "source": []
  }
 ],
 "metadata": {
  "kernelspec": {
   "display_name": "Python 3",
   "language": "python",
   "name": "python3"
  },
  "language_info": {
   "codemirror_mode": {
    "name": "ipython",
    "version": 3
   },
   "file_extension": ".py",
   "mimetype": "text/x-python",
   "name": "python",
   "nbconvert_exporter": "python",
   "pygments_lexer": "ipython3",
   "version": "3.5.2"
  }
 },
 "nbformat": 4,
 "nbformat_minor": 2
}
